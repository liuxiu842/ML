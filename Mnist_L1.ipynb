{
  "nbformat": 4,
  "nbformat_minor": 0,
  "metadata": {
    "colab": {
      "name": "Mnist_L1.ipynb",
      "provenance": [],
      "collapsed_sections": [],
      "authorship_tag": "ABX9TyOtitFWVJ9XCeLXKn6TaqHF",
      "include_colab_link": true
    },
    "kernelspec": {
      "name": "python3",
      "display_name": "Python 3"
    },
    "widgets": {
      "application/vnd.jupyter.widget-state+json": {
        "c12c42be96344f2b8fafae5ce4814367": {
          "model_module": "@jupyter-widgets/controls",
          "model_name": "HBoxModel",
          "state": {
            "_view_name": "HBoxView",
            "_dom_classes": [],
            "_model_name": "HBoxModel",
            "_view_module": "@jupyter-widgets/controls",
            "_model_module_version": "1.5.0",
            "_view_count": null,
            "_view_module_version": "1.5.0",
            "box_style": "",
            "layout": "IPY_MODEL_5867305f31824bce9da5311ddd300b06",
            "_model_module": "@jupyter-widgets/controls",
            "children": [
              "IPY_MODEL_da74da7bac5f413fb70d599b5dfff837",
              "IPY_MODEL_7ed5073d13d749559187b32ed1bf1925"
            ]
          }
        },
        "5867305f31824bce9da5311ddd300b06": {
          "model_module": "@jupyter-widgets/base",
          "model_name": "LayoutModel",
          "state": {
            "_view_name": "LayoutView",
            "grid_template_rows": null,
            "right": null,
            "justify_content": null,
            "_view_module": "@jupyter-widgets/base",
            "overflow": null,
            "_model_module_version": "1.2.0",
            "_view_count": null,
            "flex_flow": null,
            "width": null,
            "min_width": null,
            "border": null,
            "align_items": null,
            "bottom": null,
            "_model_module": "@jupyter-widgets/base",
            "top": null,
            "grid_column": null,
            "overflow_y": null,
            "overflow_x": null,
            "grid_auto_flow": null,
            "grid_area": null,
            "grid_template_columns": null,
            "flex": null,
            "_model_name": "LayoutModel",
            "justify_items": null,
            "grid_row": null,
            "max_height": null,
            "align_content": null,
            "visibility": null,
            "align_self": null,
            "height": null,
            "min_height": null,
            "padding": null,
            "grid_auto_rows": null,
            "grid_gap": null,
            "max_width": null,
            "order": null,
            "_view_module_version": "1.2.0",
            "grid_template_areas": null,
            "object_position": null,
            "object_fit": null,
            "grid_auto_columns": null,
            "margin": null,
            "display": null,
            "left": null
          }
        },
        "da74da7bac5f413fb70d599b5dfff837": {
          "model_module": "@jupyter-widgets/controls",
          "model_name": "IntProgressModel",
          "state": {
            "_view_name": "ProgressView",
            "style": "IPY_MODEL_a36c75cf6f8f4c6c8fd093623fa00a48",
            "_dom_classes": [],
            "description": "Optimization Progress: 100%",
            "_model_name": "IntProgressModel",
            "bar_style": "",
            "max": 120,
            "_view_module": "@jupyter-widgets/controls",
            "_model_module_version": "1.5.0",
            "value": 120,
            "_view_count": null,
            "_view_module_version": "1.5.0",
            "orientation": "horizontal",
            "min": 0,
            "description_tooltip": null,
            "_model_module": "@jupyter-widgets/controls",
            "layout": "IPY_MODEL_8142684553ff4a2e9d605201e562ecee"
          }
        },
        "7ed5073d13d749559187b32ed1bf1925": {
          "model_module": "@jupyter-widgets/controls",
          "model_name": "HTMLModel",
          "state": {
            "_view_name": "HTMLView",
            "style": "IPY_MODEL_2b8f2c07ee3f4b02b1b52f3f285666b8",
            "_dom_classes": [],
            "description": "",
            "_model_name": "HTMLModel",
            "placeholder": "​",
            "_view_module": "@jupyter-widgets/controls",
            "_model_module_version": "1.5.0",
            "value": " 120/120 [04:48&lt;00:00,  2.75s/pipeline]",
            "_view_count": null,
            "_view_module_version": "1.5.0",
            "description_tooltip": null,
            "_model_module": "@jupyter-widgets/controls",
            "layout": "IPY_MODEL_2a3c1294ae334feb90555011fc72a52b"
          }
        },
        "a36c75cf6f8f4c6c8fd093623fa00a48": {
          "model_module": "@jupyter-widgets/controls",
          "model_name": "ProgressStyleModel",
          "state": {
            "_view_name": "StyleView",
            "_model_name": "ProgressStyleModel",
            "description_width": "initial",
            "_view_module": "@jupyter-widgets/base",
            "_model_module_version": "1.5.0",
            "_view_count": null,
            "_view_module_version": "1.2.0",
            "bar_color": null,
            "_model_module": "@jupyter-widgets/controls"
          }
        },
        "8142684553ff4a2e9d605201e562ecee": {
          "model_module": "@jupyter-widgets/base",
          "model_name": "LayoutModel",
          "state": {
            "_view_name": "LayoutView",
            "grid_template_rows": null,
            "right": null,
            "justify_content": null,
            "_view_module": "@jupyter-widgets/base",
            "overflow": null,
            "_model_module_version": "1.2.0",
            "_view_count": null,
            "flex_flow": null,
            "width": null,
            "min_width": null,
            "border": null,
            "align_items": null,
            "bottom": null,
            "_model_module": "@jupyter-widgets/base",
            "top": null,
            "grid_column": null,
            "overflow_y": null,
            "overflow_x": null,
            "grid_auto_flow": null,
            "grid_area": null,
            "grid_template_columns": null,
            "flex": null,
            "_model_name": "LayoutModel",
            "justify_items": null,
            "grid_row": null,
            "max_height": null,
            "align_content": null,
            "visibility": null,
            "align_self": null,
            "height": null,
            "min_height": null,
            "padding": null,
            "grid_auto_rows": null,
            "grid_gap": null,
            "max_width": null,
            "order": null,
            "_view_module_version": "1.2.0",
            "grid_template_areas": null,
            "object_position": null,
            "object_fit": null,
            "grid_auto_columns": null,
            "margin": null,
            "display": null,
            "left": null
          }
        },
        "2b8f2c07ee3f4b02b1b52f3f285666b8": {
          "model_module": "@jupyter-widgets/controls",
          "model_name": "DescriptionStyleModel",
          "state": {
            "_view_name": "StyleView",
            "_model_name": "DescriptionStyleModel",
            "description_width": "",
            "_view_module": "@jupyter-widgets/base",
            "_model_module_version": "1.5.0",
            "_view_count": null,
            "_view_module_version": "1.2.0",
            "_model_module": "@jupyter-widgets/controls"
          }
        },
        "2a3c1294ae334feb90555011fc72a52b": {
          "model_module": "@jupyter-widgets/base",
          "model_name": "LayoutModel",
          "state": {
            "_view_name": "LayoutView",
            "grid_template_rows": null,
            "right": null,
            "justify_content": null,
            "_view_module": "@jupyter-widgets/base",
            "overflow": null,
            "_model_module_version": "1.2.0",
            "_view_count": null,
            "flex_flow": null,
            "width": null,
            "min_width": null,
            "border": null,
            "align_items": null,
            "bottom": null,
            "_model_module": "@jupyter-widgets/base",
            "top": null,
            "grid_column": null,
            "overflow_y": null,
            "overflow_x": null,
            "grid_auto_flow": null,
            "grid_area": null,
            "grid_template_columns": null,
            "flex": null,
            "_model_name": "LayoutModel",
            "justify_items": null,
            "grid_row": null,
            "max_height": null,
            "align_content": null,
            "visibility": null,
            "align_self": null,
            "height": null,
            "min_height": null,
            "padding": null,
            "grid_auto_rows": null,
            "grid_gap": null,
            "max_width": null,
            "order": null,
            "_view_module_version": "1.2.0",
            "grid_template_areas": null,
            "object_position": null,
            "object_fit": null,
            "grid_auto_columns": null,
            "margin": null,
            "display": null,
            "left": null
          }
        }
      }
    }
  },
  "cells": [
    {
      "cell_type": "markdown",
      "metadata": {
        "id": "view-in-github",
        "colab_type": "text"
      },
      "source": [
        "<a href=\"https://colab.research.google.com/github/liuxiu842/ML/blob/master/Mnist_L1.ipynb\" target=\"_parent\"><img src=\"https://colab.research.google.com/assets/colab-badge.svg\" alt=\"Open In Colab\"/></a>"
      ]
    },
    {
      "cell_type": "code",
      "metadata": {
        "id": "EdpuhGcOI_TE",
        "colab_type": "code",
        "outputId": "0cefcd28-eb75-4516-cbf0-1c64b254a3b5",
        "colab": {
          "base_uri": "https://localhost:8080/",
          "height": 468
        }
      },
      "source": [
        "# -*- coding: utf-8 -*-\n",
        "# 使用LR进行MNIST手写数字分类\n",
        "from sklearn.model_selection import train_test_split\n",
        "from sklearn import preprocessing\n",
        "from sklearn.metrics import accuracy_score\n",
        "from sklearn.datasets import load_digits\n",
        "from sklearn.linear_model import LogisticRegression\n",
        "import matplotlib.pyplot as plt\n",
        "\n",
        "# loading data\n",
        "digits = load_digits()\n",
        "data = digits.data\n",
        "\n",
        "i = 10\n",
        "print(data.shape)\n",
        "print(digits.images[i])\n",
        "print(digits.target[i])\n",
        "\n",
        "plt.gray()\n",
        "plt.title('Handwritten Digits')\n",
        "plt.imshow(digits.images[i])\n",
        "plt.show()\n",
        "\n",
        "#split data\n",
        "train_x, test_x, train_y, test_y = train_test_split(data, digits.target, test_size=0.25, random_state=33)\n",
        "\n",
        "#z-Score\n",
        "ss = preprocessing.StandardScaler()\n",
        "train_ss_x = ss.fit_transform(train_x)\n",
        "test_ss_x = ss.transform(test_x)\n",
        "\n",
        "# create LR classifier\n",
        "lr = LogisticRegression()\n",
        "lr.fit(train_ss_x, train_y)\n",
        "predict_y = lr.predict(test_ss_x)\n",
        "\n",
        "print('LR准确率: %0.4lf' % accuracy_score(predict_y, test_y))"
      ],
      "execution_count": 0,
      "outputs": [
        {
          "output_type": "stream",
          "text": [
            "(1797, 64)\n",
            "[[ 0.  0.  1.  9. 15. 11.  0.  0.]\n",
            " [ 0.  0. 11. 16.  8. 14.  6.  0.]\n",
            " [ 0.  2. 16. 10.  0.  9.  9.  0.]\n",
            " [ 0.  1. 16.  4.  0.  8.  8.  0.]\n",
            " [ 0.  4. 16.  4.  0.  8.  8.  0.]\n",
            " [ 0.  1. 16.  5.  1. 11.  3.  0.]\n",
            " [ 0.  0. 12. 12. 10. 10.  0.  0.]\n",
            " [ 0.  0.  1. 10. 13.  3.  0.  0.]]\n",
            "0\n"
          ],
          "name": "stdout"
        },
        {
          "output_type": "display_data",
          "data": {
            "image/png": "[encoded data removed]",
            "text/plain": [
              "<Figure size 432x288 with 1 Axes>"
            ]
          },
          "metadata": {
            "tags": [],
            "needs_background": "light"
          }
        },
        {
          "output_type": "stream",
          "text": [
            "LR准确率: 0.9644\n"
          ],
          "name": "stdout"
        }
      ]
    },
    {
      "cell_type": "code",
      "metadata": {
        "id": "JcIEF-jHV5Qm",
        "colab_type": "code",
        "outputId": "99cb4356-574b-4d14-b7ab-993a622de7a2",
        "colab": {
          "base_uri": "https://localhost:8080/",
          "height": 34
        }
      },
      "source": [
        "# Action1: 针对mnist数据集进行分类，采用CART决策树\n",
        "from sklearn import tree\n",
        "clf = tree.DecisionTreeClassifier()\n",
        "\n",
        "#训练集使用上个cell的数据\n",
        "clf.fit(train_ss_x, train_y)\n",
        "prediction = clf.predict(test_ss_x)\n",
        "print('TREE准确率: %0.4lf' % accuracy_score(prediction, test_y))"
      ],
      "execution_count": 0,
      "outputs": [
        {
          "output_type": "stream",
          "text": [
            "TREE准确率: 0.8644\n"
          ],
          "name": "stdout"
        }
      ]
    },
    {
      "cell_type": "code",
      "metadata": {
        "id": "-4uo19HV5KPV",
        "colab_type": "code",
        "outputId": "b786f8dc-87a8-49e4-cc29-3fa809fe70f2",
        "colab": {
          "base_uri": "https://localhost:8080/",
          "height": 34
        }
      },
      "source": [
        "from sklearn.discriminant_analysis import LinearDiscriminantAnalysis\n",
        "model = LinearDiscriminantAnalysis(n_components=2)\n",
        "model.fit(train_ss_x, train_y)\n",
        "predict_y = model.predict(test_ss_x)\n",
        "print('LDA accuracy:%0.4lf'%accuracy_score(predict_y, test_y))"
      ],
      "execution_count": 0,
      "outputs": [
        {
          "output_type": "stream",
          "text": [
            "LDA accuracy:0.9378\n"
          ],
          "name": "stdout"
        }
      ]
    },
    {
      "cell_type": "code",
      "metadata": {
        "id": "Z9TWkLAT5557",
        "colab_type": "code",
        "outputId": "f69417dc-1814-4498-8d13-a5b261ade36e",
        "colab": {
          "base_uri": "https://localhost:8080/",
          "height": 34
        }
      },
      "source": [
        "from sklearn import svm\n",
        "model = svm.SVC(kernel='rbf', C=1.0, gamma='auto')\n",
        "model.fit(train_ss_x, train_y)\n",
        "predict_y = model.predict(test_ss_x)\n",
        "print('SVM accuracy:%0.4lf'%accuracy_score(predict_y, test_y))\n"
      ],
      "execution_count": 0,
      "outputs": [
        {
          "output_type": "stream",
          "text": [
            "SVM accuracy:0.9867\n"
          ],
          "name": "stdout"
        }
      ]
    },
    {
      "cell_type": "code",
      "metadata": {
        "id": "D5PHVKe06bbG",
        "colab_type": "code",
        "outputId": "d41c91e3-0d75-495a-de6f-43e27d460a07",
        "colab": {
          "base_uri": "https://localhost:8080/",
          "height": 34
        }
      },
      "source": [
        "from sklearn.naive_bayes import GaussianNB, MultinomialNB, BernoulliNB #高斯朴素贝叶斯 GaussianNB/MultinomialNB/BernoulliNB\n",
        "model = GaussianNB()\n",
        "model.fit(train_ss_x, train_y)\n",
        "predict_y = model.predict(test_ss_x)\n",
        "print('GaussianNB accuracy:%0.4lf'%accuracy_score(predict_y, test_y))"
      ],
      "execution_count": 0,
      "outputs": [
        {
          "output_type": "stream",
          "text": [
            "GaussianNB accuracy:0.7778\n"
          ],
          "name": "stdout"
        }
      ]
    },
    {
      "cell_type": "code",
      "metadata": {
        "id": "dWucs2sS6tOm",
        "colab_type": "code",
        "outputId": "38b4932d-2968-4a5f-84c9-f61f2bf00790",
        "colab": {
          "base_uri": "https://localhost:8080/",
          "height": 34
        }
      },
      "source": [
        "from sklearn.neighbors import KNeighborsClassifier #KNN\n",
        "model = KNeighborsClassifier()\n",
        "model.fit(train_ss_x,train_y)\n",
        "predict_y=model.predict(test_ss_x)\n",
        "print('KNN准确率: %0.4lf' %accuracy_score(predict_y,test_y))\n"
      ],
      "execution_count": 0,
      "outputs": [
        {
          "output_type": "stream",
          "text": [
            "KNN准确率: 0.9756\n"
          ],
          "name": "stdout"
        }
      ]
    },
    {
      "cell_type": "code",
      "metadata": {
        "id": "evCinvF_7BWQ",
        "colab_type": "code",
        "outputId": "36491371-7d93-4e88-c05e-76a649c50837",
        "colab": {
          "base_uri": "https://localhost:8080/",
          "height": 34
        }
      },
      "source": [
        "from sklearn.ensemble import  AdaBoostClassifier #AdaBoost\n",
        "from sklearn.tree import DecisionTreeClassifier \n",
        "# 创建AdaBoost分类器\n",
        "# 弱分类器\n",
        "dt_stump = DecisionTreeClassifier(max_depth=5,min_samples_leaf=1)\n",
        "dt_stump.fit(train_ss_x, train_y)\n",
        "# 设置AdaBoost迭代次数\n",
        "n_estimators=500\n",
        "model = AdaBoostClassifier(base_estimator=dt_stump,n_estimators=n_estimators)\n",
        "model.fit(train_ss_x,train_y)\n",
        "predict_y=model.predict(test_ss_x)\n",
        "print('AdaBoost准确率: %0.4lf' %accuracy_score(predict_y,test_y))"
      ],
      "execution_count": 0,
      "outputs": [
        {
          "output_type": "stream",
          "text": [
            "AdaBoost准确率: 0.9689\n"
          ],
          "name": "stdout"
        }
      ]
    },
    {
      "cell_type": "code",
      "metadata": {
        "id": "ic0V0B7n76Iu",
        "colab_type": "code",
        "outputId": "f3d09f8b-9523-4ffd-dae7-34127e06d234",
        "colab": {
          "base_uri": "https://localhost:8080/",
          "height": 34
        }
      },
      "source": [
        "from xgboost import XGBClassifier\n",
        "model = XGBClassifier()\n",
        "model.fit(train_ss_x, train_y)\n",
        "predict_y = model.predict(test_ss_x)\n",
        "print('XGBoost accuracy:%0.4lf'%accuracy_score(predict_y,test_y))"
      ],
      "execution_count": 0,
      "outputs": [
        {
          "output_type": "stream",
          "text": [
            "XGBoost accuracy:0.9489\n"
          ],
          "name": "stdout"
        }
      ]
    },
    {
      "cell_type": "code",
      "metadata": {
        "id": "ComltcxvMpc-",
        "colab_type": "code",
        "outputId": "eb3a1827-0f18-4e95-b59f-86637e1336b1",
        "colab": {
          "base_uri": "https://localhost:8080/",
          "height": 136
        }
      },
      "source": [
        "# 使用LeNet模型对Mnist手写数字进行识别\n",
        "import tensorflow as tf\n",
        "from tensorflow.keras import layers\n",
        "from tensorflow.keras.datasets import mnist\n",
        "from tensorflow.keras.layers import Conv2D, MaxPooling2D\n",
        "from tensorflow.keras.layers import Dense, Flatten\n",
        "\n",
        "from tensorflow.keras.models import Sequential\n",
        "import numpy as np\n",
        "\n",
        "#loading data\n",
        "(train_x, train_y),(test_x, test_y) = mnist.load_data()\n",
        "\n",
        "train_x = train_x.reshape(train_x.shape[0], 28, 28, 1)\n",
        "test_x = test_x.reshape(test_x.shape[0], 28, 28, 1)\n",
        "train_x = train_x/255\n",
        "test_x = test_x/255\n",
        "train_y = tf.keras.utils.to_categorical(train_y, 10)\n",
        "test_y = tf.keras.utils.to_categorical(test_y, 10)\n",
        "\n",
        "#create sequential\n",
        "model = Sequential()\n",
        "#first layer\n",
        "model.add(Conv2D(6,kernel_size=(5,5), activation='relu', input_shape=(28,28,1)))\n",
        "#second layer\n",
        "model.add(MaxPooling2D(pool_size=(2, 2)))\n",
        "#third layer\n",
        "model.add(Conv2D(16,kernel_size=(5,5),activation='relu'))\n",
        "#second layer\n",
        "model.add(MaxPooling2D(pool_size=(2, 2)))\n",
        "# 将参数进行扁平化，在LeNet5中称之为卷积层，实际上这一层是一维向量，和全连接层一样\n",
        "model.add(Flatten())\n",
        "\n",
        "model.add(Dense(120, activation='relu'))\n",
        "# 全连接层，输出节点个数为84个\n",
        "model.add(Dense(84, activation='relu'))\n",
        "# 输出层 用softmax 激活函数计算分类概率\n",
        "model.add(Dense(10, activation='softmax'))\n",
        "# 设置损失函数和优化器配置\n",
        "\n",
        "model.compile(loss=tf.keras.metrics.categorical_crossentropy, optimizer=tf.keras.optimizers.Adam(), metrics=['accuracy'])\n",
        "# 传入训练数据进行训练\n",
        "model.fit(train_x,train_y, batch_size=128, epochs=2,verbose=1, validation_data=(test_x, test_y))\n",
        "# 对结果进行评估\n",
        "score = model.evaluate(test_x, test_y)\n",
        "print('误差:%0.4lf' %score[0])\n",
        "print('准确率:', score[1])\n",
        "\n"
      ],
      "execution_count": 0,
      "outputs": [
        {
          "output_type": "stream",
          "text": [
            "Epoch 1/2\n",
            "469/469 [==============================] - 23s 49ms/step - loss: 0.3145 - accuracy: 0.9080 - val_loss: 0.1033 - val_accuracy: 0.9677\n",
            "Epoch 2/2\n",
            "469/469 [==============================] - 23s 48ms/step - loss: 0.0877 - accuracy: 0.9727 - val_loss: 0.0585 - val_accuracy: 0.9824\n",
            "313/313 [==============================] - 2s 7ms/step - loss: 0.0585 - accuracy: 0.9824\n",
            "误差:0.0585\n",
            "准确率: 0.9824000000953674\n"
          ],
          "name": "stdout"
        }
      ]
    },
    {
      "cell_type": "code",
      "metadata": {
        "id": "PgOOQzp38gEl",
        "colab_type": "code",
        "outputId": "36e8603c-71fc-4a07-c26b-cf21566eafae",
        "colab": {
          "base_uri": "https://localhost:8080/",
          "height": 717,
          "referenced_widgets": [
            "c12c42be96344f2b8fafae5ce4814367",
            "5867305f31824bce9da5311ddd300b06",
            "da74da7bac5f413fb70d599b5dfff837",
            "7ed5073d13d749559187b32ed1bf1925",
            "a36c75cf6f8f4c6c8fd093623fa00a48",
            "8142684553ff4a2e9d605201e562ecee",
            "2b8f2c07ee3f4b02b1b52f3f285666b8",
            "2a3c1294ae334feb90555011fc72a52b"
          ]
        }
      },
      "source": [
        "# 使用TPOT自动机器学习工具对MNIST进行分类\n",
        "!pip install tpot\n",
        "from tpot import TPOTClassifier\n",
        "from sklearn.datasets import load_digits\n",
        "from sklearn.model_selection import train_test_split\n",
        "import numpy as np\n",
        "\n",
        "digits = load_digits()\n",
        "data = digits.data\n",
        "print(digits.target)\n",
        "X_train, X_test, y_train, y_test = train_test_split(digits.data.astype(np.float64),digits.target.astype(np.float64), train_size=0.75, test_size=0.25)\n",
        "tpot = TPOTClassifier(generations=5,population_size=20, verbosity=2)\n",
        "tpot.fit(X_train, y_train)\n",
        "print(tpot.score(X_test,y_test))\n",
        "tpot.export('tpot_mnist_pipline.py')"
      ],
      "execution_count": 0,
      "outputs": [
        {
          "output_type": "stream",
          "text": [
            "Collecting tpot\n",
            "\u001b[?25l  Downloading https://files.pythonhosted.org/packages/ea/9f/813faf5ec7aa95f393a07603abd01fcb925b65ffe95441b25da029a69ff7/TPOT-0.11.1-py3-none-any.whl (75kB)\n",
            "\r\u001b[K     |████▎                           | 10kB 18.7MB/s eta 0:00:01\r\u001b[K     |████████▋                       | 20kB 1.8MB/s eta 0:00:01\r\u001b[K     |█████████████                   | 30kB 2.3MB/s eta 0:00:01\r\u001b[K     |█████████████████▎              | 40kB 2.6MB/s eta 0:00:01\r\u001b[K     |█████████████████████▋          | 51kB 2.0MB/s eta 0:00:01\r\u001b[K     |██████████████████████████      | 61kB 2.2MB/s eta 0:00:01\r\u001b[K     |██████████████████████████████▎ | 71kB 2.5MB/s eta 0:00:01\r\u001b[K     |████████████████████████████████| 81kB 2.3MB/s \n",
            "\u001b[?25hCollecting stopit>=1.1.1\n",
            "  Downloading https://files.pythonhosted.org/packages/35/58/e8bb0b0fb05baf07bbac1450c447d753da65f9701f551dca79823ce15d50/stopit-1.1.2.tar.gz\n",
            "Collecting deap>=1.2\n",
            "\u001b[?25l  Downloading https://files.pythonhosted.org/packages/0a/eb/2bd0a32e3ce757fb26264765abbaedd6d4d3640d90219a513aeabd08ee2b/deap-1.3.1-cp36-cp36m-manylinux2010_x86_64.whl (157kB)\n",
            "\r\u001b[K     |██                              | 10kB 18.1MB/s eta 0:00:01\r\u001b[K     |████▏                           | 20kB 24.2MB/s eta 0:00:01\r\u001b[K     |██████▎                         | 30kB 20.1MB/s eta 0:00:01\r\u001b[K     |████████▍                       | 40kB 17.8MB/s eta 0:00:01\r\u001b[K     |██████████▍                     | 51kB 16.1MB/s eta 0:00:01\r\u001b[K     |████████████▌                   | 61kB 15.1MB/s eta 0:00:01\r\u001b[K     |██████████████▋                 | 71kB 14.1MB/s eta 0:00:01\r\u001b[K     |████████████████▊               | 81kB 6.9MB/s eta 0:00:01\r\u001b[K     |██████████████████▊             | 92kB 7.6MB/s eta 0:00:01\r\u001b[K     |████████████████████▉           | 102kB 8.2MB/s eta 0:00:01\r\u001b[K     |███████████████████████         | 112kB 8.2MB/s eta 0:00:01\r\u001b[K     |█████████████████████████       | 122kB 8.2MB/s eta 0:00:01\r\u001b[K     |███████████████████████████▏    | 133kB 8.2MB/s eta 0:00:01\r\u001b[K     |█████████████████████████████▏  | 143kB 8.2MB/s eta 0:00:01\r\u001b[K     |███████████████████████████████▎| 153kB 8.2MB/s eta 0:00:01\r\u001b[K     |████████████████████████████████| 163kB 8.2MB/s \n",
            "\u001b[?25hCollecting update-checker>=0.16\n",
            "  Downloading https://files.pythonhosted.org/packages/d6/c3/aaf8a162df8e8f9d321237c7c0e63aff95b42d19f1758f96606e3cabb245/update_checker-0.17-py2.py3-none-any.whl\n",
            "Requirement already satisfied: pandas>=0.24.2 in /usr/local/lib/python3.6/dist-packages (from tpot) (1.0.3)\n",
            "Requirement already satisfied: tqdm>=4.36.1 in /usr/local/lib/python3.6/dist-packages (from tpot) (4.38.0)\n",
            "Requirement already satisfied: scikit-learn>=0.22.0 in /usr/local/lib/python3.6/dist-packages (from tpot) (0.22.2.post1)\n",
            "Requirement already satisfied: numpy>=1.16.3 in /usr/local/lib/python3.6/dist-packages (from tpot) (1.18.3)\n",
            "Requirement already satisfied: joblib>=0.13.2 in /usr/local/lib/python3.6/dist-packages (from tpot) (0.14.1)\n",
            "Requirement already satisfied: scipy>=1.3.1 in /usr/local/lib/python3.6/dist-packages (from tpot) (1.4.1)\n",
            "Requirement already satisfied: requests>=2.3.0 in /usr/local/lib/python3.6/dist-packages (from update-checker>=0.16->tpot) (2.23.0)\n",
            "Requirement already satisfied: pytz>=2017.2 in /usr/local/lib/python3.6/dist-packages (from pandas>=0.24.2->tpot) (2018.9)\n",
            "Requirement already satisfied: python-dateutil>=2.6.1 in /usr/local/lib/python3.6/dist-packages (from pandas>=0.24.2->tpot) (2.8.1)\n",
            "Requirement already satisfied: certifi>=2017.4.17 in /usr/local/lib/python3.6/dist-packages (from requests>=2.3.0->update-checker>=0.16->tpot) (2020.4.5.1)\n",
            "Requirement already satisfied: chardet<4,>=3.0.2 in /usr/local/lib/python3.6/dist-packages (from requests>=2.3.0->update-checker>=0.16->tpot) (3.0.4)\n",
            "Requirement already satisfied: urllib3!=1.25.0,!=1.25.1,<1.26,>=1.21.1 in /usr/local/lib/python3.6/dist-packages (from requests>=2.3.0->update-checker>=0.16->tpot) (1.24.3)\n",
            "Requirement already satisfied: idna<3,>=2.5 in /usr/local/lib/python3.6/dist-packages (from requests>=2.3.0->update-checker>=0.16->tpot) (2.9)\n",
            "Requirement already satisfied: six>=1.5 in /usr/local/lib/python3.6/dist-packages (from python-dateutil>=2.6.1->pandas>=0.24.2->tpot) (1.12.0)\n",
            "Building wheels for collected packages: stopit\n",
            "  Building wheel for stopit (setup.py) ... \u001b[?25l\u001b[?25hdone\n",
            "  Created wheel for stopit: filename=stopit-1.1.2-cp36-none-any.whl size=11956 sha256=9e9c4e7f714071697d270dff38c82e12a1df0b2125e5925bfead0b455b3fbdab\n",
            "  Stored in directory: /root/.cache/pip/wheels/3c/85/2b/2580190404636bfc63e8de3dff629c03bb795021e1983a6cc7\n",
            "Successfully built stopit\n",
            "Installing collected packages: stopit, deap, update-checker, tpot\n",
            "Successfully installed deap-1.3.1 stopit-1.1.2 tpot-0.11.1 update-checker-0.17\n",
            "[0 1 2 ... 8 9 8]\n"
          ],
          "name": "stdout"
        },
        {
          "output_type": "display_data",
          "data": {
            "application/vnd.jupyter.widget-view+json": {
              "model_id": "c12c42be96344f2b8fafae5ce4814367",
              "version_minor": 0,
              "version_major": 2
            },
            "text/plain": [
              "HBox(children=(IntProgress(value=0, description='Optimization Progress', max=120, style=ProgressStyle(descript…"
            ]
          },
          "metadata": {
            "tags": []
          }
        },
        {
          "output_type": "stream",
          "text": [
            "Generation 1 - Current best internal CV score: 0.971785763458626\n",
            "Generation 2 - Current best internal CV score: 0.971785763458626\n",
            "Generation 3 - Current best internal CV score: 0.9762549910505302\n",
            "Generation 4 - Current best internal CV score: 0.9762549910505302\n",
            "Generation 5 - Current best internal CV score: 0.9769902244251686\n",
            "\n",
            "Best pipeline: ExtraTreesClassifier(input_matrix, bootstrap=False, criterion=entropy, max_features=0.1, min_samples_leaf=2, min_samples_split=8, n_estimators=100)\n",
            "0.9777777777777777\n"
          ],
          "name": "stdout"
        }
      ]
    },
    {
      "cell_type": "code",
      "metadata": {
        "id": "yX70K9NpE9W_",
        "colab_type": "code",
        "outputId": "1c66e18f-8d97-4d89-cbe5-a0758827e42b",
        "colab": {
          "base_uri": "https://localhost:8080/",
          "height": 35
        }
      },
      "source": [
        "ls\n"
      ],
      "execution_count": 0,
      "outputs": [
        {
          "output_type": "stream",
          "text": [
            "\u001b[0m\u001b[01;34msample_data\u001b[0m/  tpot_mnist_pipline.py\n"
          ],
          "name": "stdout"
        }
      ]
    },
    {
      "cell_type": "code",
      "metadata": {
        "id": "XUoEH3eVFD7P",
        "colab_type": "code",
        "outputId": "1720c81b-4d71-4dfb-8726-3df74f0e4d13",
        "colab": {
          "base_uri": "https://localhost:8080/",
          "height": 309
        }
      },
      "source": [
        "cat tpot_mnist_pipline.py"
      ],
      "execution_count": 0,
      "outputs": [
        {
          "output_type": "stream",
          "text": [
            "import numpy as np\n",
            "import pandas as pd\n",
            "from sklearn.ensemble import ExtraTreesClassifier\n",
            "from sklearn.model_selection import train_test_split\n",
            "\n",
            "# NOTE: Make sure that the outcome column is labeled 'target' in the data file\n",
            "tpot_data = pd.read_csv('PATH/TO/DATA/FILE', sep='COLUMN_SEPARATOR', dtype=np.float64)\n",
            "features = tpot_data.drop('target', axis=1)\n",
            "training_features, testing_features, training_target, testing_target = \\\n",
            "            train_test_split(features, tpot_data['target'], random_state=None)\n",
            "\n",
            "# Average CV score on the training set was: 0.9769902244251686\n",
            "exported_pipeline = ExtraTreesClassifier(bootstrap=False, criterion=\"entropy\", max_features=0.1, min_samples_leaf=2, min_samples_split=8, n_estimators=100)\n",
            "\n",
            "exported_pipeline.fit(training_features, training_target)\n",
            "results = exported_pipeline.predict(testing_features)\n"
          ],
          "name": "stdout"
        }
      ]
    },
    {
      "cell_type": "code",
      "metadata": {
        "id": "5rN5KTOXFOB5",
        "colab_type": "code",
        "outputId": "4da5a51d-7677-4145-9bde-e9f29761cb2f",
        "colab": {
          "base_uri": "https://localhost:8080/",
          "height": 34
        }
      },
      "source": [
        "import numpy as np\n",
        "import pandas as pd\n",
        "from sklearn.ensemble import ExtraTreesClassifier\n",
        "from sklearn.model_selection import train_test_split\n",
        "\n",
        "# NOTE: Make sure that the outcome column is labeled 'target' in the data file\n",
        "tpot_data = digits.data\n",
        "tpot_target = digits.target\n",
        "training_features, testing_features, training_target, testing_target = \\\n",
        "            train_test_split(tpot_data, tpot_target, random_state=None)\n",
        "\n",
        "# Average CV score on the training set was: 0.9769902244251686\n",
        "exported_pipeline = ExtraTreesClassifier(bootstrap=False, criterion=\"entropy\", max_features=0.1, min_samples_leaf=2, min_samples_split=8, n_estimators=100)\n",
        "\n",
        "exported_pipeline.fit(training_features, training_target)\n",
        "results = exported_pipeline.predict(testing_features)\n",
        "\n",
        "print('accuracy:%0.4lf'%accuracy_score(results,testing_target))"
      ],
      "execution_count": 0,
      "outputs": [
        {
          "output_type": "stream",
          "text": [
            "accuracy:0.9711\n"
          ],
          "name": "stdout"
        }
      ]
    }
  ]
}