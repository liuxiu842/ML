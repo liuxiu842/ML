{
  "nbformat": 4,
  "nbformat_minor": 0,
  "metadata": {
    "colab": {
      "name": "apriori.ipynb",
      "provenance": [],
      "collapsed_sections": [],
      "mount_file_id": "1_bQbtlabtQ_UIDSTYDlpe6yMreBNTxYh",
      "authorship_tag": "ABX9TyN7QikmOE4U96VkpIEPdRsa",
      "include_colab_link": true
    },
    "kernelspec": {
      "name": "python3",
      "display_name": "Python 3"
    }
  },
  "cells": [
    {
      "cell_type": "markdown",
      "metadata": {
        "id": "view-in-github",
        "colab_type": "text"
      },
      "source": [
        "<a href=\"https://colab.research.google.com/github/liuxiu842/ML/blob/master/apriori.ipynb\" target=\"_parent\"><img src=\"https://colab.research.google.com/assets/colab-badge.svg\" alt=\"Open In Colab\"/></a>"
      ]
    },
    {
      "cell_type": "code",
      "metadata": {
        "id": "Zumc41ZdLOSD",
        "colab_type": "code",
        "colab": {}
      },
      "source": [
        "#!pip install efficient_apriori\n",
        "import pandas as pd\n",
        "import time\n",
        "pd.options.display.max_columns=100\n",
        "\n",
        "# 数据加载\n",
        "data = pd.read_csv('/content/drive/My Drive/Colab Notebooks/L3/BreadBasket_DMS.csv')\n",
        "print(data)\n",
        "# 统一小写\n",
        "data['Item'] = data['Item'].str.lower()\n",
        "print(data)\n",
        "# 去掉none项\n",
        "data = data.drop(data[data.Item == 'none'].index)\n",
        "print(data)\n"
      ],
      "execution_count": 0,
      "outputs": []
    },
    {
      "cell_type": "code",
      "metadata": {
        "id": "2r3c0wGUfT6I",
        "colab_type": "code",
        "colab": {}
      },
      "source": [
        "# 采用efficient_apriori工具包\n",
        "def rule1():\n",
        "\tfrom efficient_apriori import apriori\n",
        "\tstart = time.time()\n",
        "\t# 得到一维数组orders_series，并且将Transaction作为index, value为Item取值\n",
        "\torders_series = data.set_index('Transaction')['Item']\n",
        "\t# 将数据集进行格式转换\n",
        "\ttransactions = []\n",
        "\ttemp_index = 0\n",
        "\tfor i, v in orders_series.items():\n",
        "\t\tif i != temp_index:\n",
        "\t\t\ttemp_set = set()\n",
        "\t\t\ttemp_index = i\n",
        "\t\t\ttemp_set.add(v)\n",
        "\t\t\ttransactions.append(temp_set)\n",
        "\t\telse:\n",
        "\t\t\ttemp_set.add(v)\n",
        "\t\n",
        "\t# 挖掘频繁项集和频繁规则\n",
        "\titemsets, rules = apriori(transactions, min_support=0.02,  min_confidence=0.5)\n",
        "\tprint('频繁项集：', itemsets)\n",
        "\tprint('关联规则：', rules)\n",
        "\tend = time.time()\n",
        "\tprint(\"用时：\", end-start)\n",
        "\n",
        "rule1()\n"
      ],
      "execution_count": 0,
      "outputs": []
    },
    {
      "cell_type": "code",
      "metadata": {
        "id": "dqc9UBbXfZp2",
        "colab_type": "code",
        "colab": {}
      },
      "source": [
        "def encode_units(x):\n",
        "    if x <= 0:\n",
        "        return 0\n",
        "    if x >= 1:\n",
        "        return 1\n",
        "# 采用mlxtend.frequent_patterns工具包\n",
        "def rule2():\n",
        "\tfrom mlxtend.frequent_patterns import apriori\n",
        "\tfrom mlxtend.frequent_patterns import association_rules\n",
        "\tpd.options.display.max_columns=100\n",
        "\tstart = time.time()\n",
        "\thot_encoded_df=data.groupby(['Transaction','Item'])['Item'].count().unstack().reset_index().fillna(0).set_index('Transaction')\n",
        "\tprint(hot_encoded_df)\n",
        "\thot_encoded_df = hot_encoded_df.applymap(encode_units)\n",
        "\tprint(hot_encoded_df)\n",
        "\tfrequent_itemsets = apriori(hot_encoded_df, min_support=0.02, use_colnames=True)\n",
        "\trules = association_rules(frequent_itemsets, metric=\"lift\", min_threshold=0.5)\n",
        "\tprint(\"频繁项集：\", frequent_itemsets)\n",
        "\tprint(\"关联规则：\", rules[ (rules['lift'] >= 1) & (rules['confidence'] >= 0.5) ])\n",
        "\t#print(rules['confidence'])\n",
        "\tend = time.time()\n",
        "\tprint(\"用时：\", end-start)\n",
        "\n",
        "\n",
        "print('-'*100)\n",
        "rule2()\n"
      ],
      "execution_count": 0,
      "outputs": []
    },
    {
      "cell_type": "code",
      "metadata": {
        "id": "am-k4CgeiYCg",
        "colab_type": "code",
        "colab": {}
      },
      "source": [
        "#!pip install efficient_apriori\n",
        "import pandas as pd\n",
        "import time\n",
        "pd.options.display.max_columns=100\n",
        "\n",
        "# 数据加载\n",
        "market = pd.read_csv('/content/drive/My Drive/Colab Notebooks/L3/Market_Basket_Optimisation.csv', header=None)\n",
        "market.head()\n"
      ],
      "execution_count": 0,
      "outputs": []
    },
    {
      "cell_type": "code",
      "metadata": {
        "id": "w5ol7_4wik8u",
        "colab_type": "code",
        "colab": {}
      },
      "source": [
        "for i in market.columns:\n",
        "    market[i] = market[i].str.strip()\n",
        "market.head()"
      ],
      "execution_count": 0,
      "outputs": []
    },
    {
      "cell_type": "code",
      "metadata": {
        "id": "F8gU82dji7PX",
        "colab_type": "code",
        "colab": {}
      },
      "source": [
        "market_hot_encode=pd.DataFrame(columns=[\"items\"])\n",
        "for i in market.index:\n",
        "    item=\"\"\n",
        "    for j in market.loc[i].unique():\n",
        "        item+=str(j)+\"|\"\n",
        "    market_hot_encode.loc[i,\"items\"]=item\n",
        "\n",
        "market_hot_encode.head()\n",
        "market_hot_encode.info()   "
      ],
      "execution_count": 0,
      "outputs": []
    },
    {
      "cell_type": "code",
      "metadata": {
        "id": "KBQv4wRQn78k",
        "colab_type": "code",
        "colab": {}
      },
      "source": [
        "# one-hot编码,并删除nan列\n",
        "market_hot_encode=market_hot_encode[\"items\"].str.get_dummies(sep=\"|\").drop(\"nan\",axis=1)\n",
        "\n",
        "market_hot_encode.head()\n"
      ],
      "execution_count": 0,
      "outputs": []
    },
    {
      "cell_type": "code",
      "metadata": {
        "id": "ilnql4lwoO2A",
        "colab_type": "code",
        "colab": {}
      },
      "source": [
        "from mlxtend.frequent_patterns import apriori\n",
        "from mlxtend.frequent_patterns import association_rules\n",
        "\n",
        "itemsets = apriori(market_hot_encode,use_colnames=True, min_support=0.025)\n",
        "print(itemsets)\n",
        "itemsets = itemsets.sort_values(by=\"support\" , ascending=False) \n",
        "print('-'*20, '频繁项集', '-'*20)\n",
        "itemsets"
      ],
      "execution_count": 0,
      "outputs": []
    },
    {
      "cell_type": "code",
      "metadata": {
        "id": "70TBqxOXpUgg",
        "colab_type": "code",
        "colab": {}
      },
      "source": [
        "# 根据频繁项集计算关联规则，设置最小提升度为1.5\n",
        "rules =  association_rules(itemsets, metric='lift', min_threshold=1.5)\n",
        "# 按照提升度从大到小进行排序\n",
        "rules = rules.sort_values(by=\"lift\" , ascending=False)\n",
        "rules"
      ],
      "execution_count": 0,
      "outputs": []
    },
    {
      "cell_type": "code",
      "metadata": {
        "id": "YtNNL_Yhpp_v",
        "colab_type": "code",
        "colab": {}
      },
      "source": [
        "from efficient_apriori import apriori\n",
        "itemsets, rules = apriori(market, min_support=0.02,  min_confidence=0.5)\n",
        "print('频繁项集：', itemsets)\n",
        "print('关联规则：', rules)"
      ],
      "execution_count": 0,
      "outputs": []
    }
  ]
}